{
 "cells": [
  {
   "cell_type": "code",
   "execution_count": 57,
   "id": "d5d8f48e",
   "metadata": {},
   "outputs": [],
   "source": [
    "import numpy as np\n",
    "from random import uniform\n",
    "import matplotlib.pyplot as plt\n",
    "from numpy.linalg import eig, inv, det\n",
    "import pandas as pd"
   ]
  },
  {
   "cell_type": "code",
   "execution_count": 58,
   "id": "b1aadd72",
   "metadata": {},
   "outputs": [
    {
     "name": "stdout",
     "output_type": "stream",
     "text": [
      "Proportion of winning gambles: 0.017172\n"
     ]
    }
   ],
   "source": [
    "def gamble(initial_chips=10, win_probability=0.4, target_winnings=20, trials=10000):\n",
    "    results = np.zeros(trials)  # Track wins (1) or losses (0) for each trial\n",
    "\n",
    "    for i in range(trials):\n",
    "        chips = initial_chips\n",
    "        while chips > 0:  # Play until chips run out or target is reached\n",
    "            if uniform(0, 1) <= win_probability:  # Winning game\n",
    "                chips += 1\n",
    "            else:  # Losing game\n",
    "                chips -= 1\n",
    "\n",
    "            if chips == target_winnings:  # Check if target winnings are reached\n",
    "                results[i] = 1\n",
    "                break\n",
    "\n",
    "    return results\n",
    "\n",
    "# Simulation\n",
    "num_trials = 500000\n",
    "win_loss_results = gamble(trials=num_trials)\n",
    "proportion_of_wins = np.mean(win_loss_results)\n",
    "\n",
    "print('Proportion of winning gambles:', proportion_of_wins)"
   ]
  },
  {
   "cell_type": "code",
   "execution_count": 59,
   "id": "f566879b",
   "metadata": {},
   "outputs": [
    {
     "data": {
      "image/png": "[encoded data removed]",
      "text/plain": [
       "<Figure size 720x432 with 1 Axes>"
      ]
     },
     "metadata": {
      "needs_background": "light"
     },
     "output_type": "display_data"
    }
   ],
   "source": [
    "def random_walk(init=10, p=0.4, win=20):\n",
    "    steps = [init]  # Initial chips\n",
    "    chips = init\n",
    "    while chips > 0 and chips < win:\n",
    "        if np.random.uniform(0, 1) > p:  # losing game\n",
    "            chips -= 1\n",
    "        else:  # winning game\n",
    "            chips += 1\n",
    "        steps.append(chips)\n",
    "    return steps\n",
    "\n",
    "# Simulate a random walk\n",
    "random_walk_data = random_walk()\n",
    "\n",
    "# Plot the random walk\n",
    "plt.figure(figsize=(10, 6))\n",
    "plt.plot(random_walk_data, marker='o')\n",
    "plt.axhline(0, color='red', linestyle='--', label=\"Bankruptcy\")\n",
    "plt.axhline(20, color='green', linestyle='--', label=\"Winning Threshold\")\n",
    "plt.title(\"Random Walk for Gambler's Ruin\")\n",
    "plt.xlabel(\"Step\")\n",
    "plt.ylabel(\"Chips\")\n",
    "plt.legend()\n",
    "plt.grid(True)\n",
    "plt.show()"
   ]
  },
  {
   "cell_type": "code",
   "execution_count": 60,
   "id": "374bf681",
   "metadata": {},
   "outputs": [
    {
     "data": {
      "text/plain": [
       "array([[1. , 0. , 0. , 0. , 0. , 0. , 0. , 0. , 0. , 0. , 0. , 0. , 0. ,\n",
       "        0. , 0. , 0. , 0. , 0. , 0. , 0. , 0. ],\n",
       "       [0.6, 0. , 0.4, 0. , 0. , 0. , 0. , 0. , 0. , 0. , 0. , 0. , 0. ,\n",
       "        0. , 0. , 0. , 0. , 0. , 0. , 0. , 0. ],\n",
       "       [0. , 0.6, 0. , 0.4, 0. , 0. , 0. , 0. , 0. , 0. , 0. , 0. , 0. ,\n",
       "        0. , 0. , 0. , 0. , 0. , 0. , 0. , 0. ],\n",
       "       [0. , 0. , 0.6, 0. , 0.4, 0. , 0. , 0. , 0. , 0. , 0. , 0. , 0. ,\n",
       "        0. , 0. , 0. , 0. , 0. , 0. , 0. , 0. ],\n",
       "       [0. , 0. , 0. , 0.6, 0. , 0.4, 0. , 0. , 0. , 0. , 0. , 0. , 0. ,\n",
       "        0. , 0. , 0. , 0. , 0. , 0. , 0. , 0. ],\n",
       "       [0. , 0. , 0. , 0. , 0.6, 0. , 0.4, 0. , 0. , 0. , 0. , 0. , 0. ,\n",
       "        0. , 0. , 0. , 0. , 0. , 0. , 0. , 0. ],\n",
       "       [0. , 0. , 0. , 0. , 0. , 0.6, 0. , 0.4, 0. , 0. , 0. , 0. , 0. ,\n",
       "        0. , 0. , 0. , 0. , 0. , 0. , 0. , 0. ],\n",
       "       [0. , 0. , 0. , 0. , 0. , 0. , 0.6, 0. , 0.4, 0. , 0. , 0. , 0. ,\n",
       "        0. , 0. , 0. , 0. , 0. , 0. , 0. , 0. ],\n",
       "       [0. , 0. , 0. , 0. , 0. , 0. , 0. , 0.6, 0. , 0.4, 0. , 0. , 0. ,\n",
       "        0. , 0. , 0. , 0. , 0. , 0. , 0. , 0. ],\n",
       "       [0. , 0. , 0. , 0. , 0. , 0. , 0. , 0. , 0.6, 0. , 0.4, 0. , 0. ,\n",
       "        0. , 0. , 0. , 0. , 0. , 0. , 0. , 0. ],\n",
       "       [0. , 0. , 0. , 0. , 0. , 0. , 0. , 0. , 0. , 0.6, 0. , 0.4, 0. ,\n",
       "        0. , 0. , 0. , 0. , 0. , 0. , 0. , 0. ],\n",
       "       [0. , 0. , 0. , 0. , 0. , 0. , 0. , 0. , 0. , 0. , 0.6, 0. , 0.4,\n",
       "        0. , 0. , 0. , 0. , 0. , 0. , 0. , 0. ],\n",
       "       [0. , 0. , 0. , 0. , 0. , 0. , 0. , 0. , 0. , 0. , 0. , 0.6, 0. ,\n",
       "        0.4, 0. , 0. , 0. , 0. , 0. , 0. , 0. ],\n",
       "       [0. , 0. , 0. , 0. , 0. , 0. , 0. , 0. , 0. , 0. , 0. , 0. , 0.6,\n",
       "        0. , 0.4, 0. , 0. , 0. , 0. , 0. , 0. ],\n",
       "       [0. , 0. , 0. , 0. , 0. , 0. , 0. , 0. , 0. , 0. , 0. , 0. , 0. ,\n",
       "        0.6, 0. , 0.4, 0. , 0. , 0. , 0. , 0. ],\n",
       "       [0. , 0. , 0. , 0. , 0. , 0. , 0. , 0. , 0. , 0. , 0. , 0. , 0. ,\n",
       "        0. , 0.6, 0. , 0.4, 0. , 0. , 0. , 0. ],\n",
       "       [0. , 0. , 0. , 0. , 0. , 0. , 0. , 0. , 0. , 0. , 0. , 0. , 0. ,\n",
       "        0. , 0. , 0.6, 0. , 0.4, 0. , 0. , 0. ],\n",
       "       [0. , 0. , 0. , 0. , 0. , 0. , 0. , 0. , 0. , 0. , 0. , 0. , 0. ,\n",
       "        0. , 0. , 0. , 0.6, 0. , 0.4, 0. , 0. ],\n",
       "       [0. , 0. , 0. , 0. , 0. , 0. , 0. , 0. , 0. , 0. , 0. , 0. , 0. ,\n",
       "        0. , 0. , 0. , 0. , 0.6, 0. , 0.4, 0. ],\n",
       "       [0. , 0. , 0. , 0. , 0. , 0. , 0. , 0. , 0. , 0. , 0. , 0. , 0. ,\n",
       "        0. , 0. , 0. , 0. , 0. , 0.6, 0. , 0.4],\n",
       "       [0. , 0. , 0. , 0. , 0. , 0. , 0. , 0. , 0. , 0. , 0. , 0. , 0. ,\n",
       "        0. , 0. , 0. , 0. , 0. , 0. , 0. , 1. ]])"
      ]
     },
     "execution_count": 60,
     "metadata": {},
     "output_type": "execute_result"
    }
   ],
   "source": [
    "def PforG(p=0.4, N=20):\n",
    "    q = 1 - p\n",
    "    P = np.diag(q*np.ones(N), k=-1) + np.diag(p*np.ones(N), k=1) \n",
    "    P[0, :] = 0\n",
    "    P[0, 0] = 1\n",
    "    P[N, :] = 0\n",
    "    P[N, N] = 1\n",
    "    return P\n",
    "\n",
    "PforG(p=0.4)"
   ]
  },
  {
   "cell_type": "code",
   "execution_count": 61,
   "id": "861eb93f",
   "metadata": {},
   "outputs": [
    {
     "data": {
      "text/plain": [
       "array([-9.67732984e-01, -9.31841273e-01, -8.73004537e-01, -7.92671532e-01,\n",
       "       -6.92820323e-01, -5.75909579e-01, -4.44818029e-01, -3.02773583e-01,\n",
       "       -1.53273847e-01, -4.33433599e-17,  1.53273847e-01,  9.67732984e-01,\n",
       "        9.31841273e-01,  8.73004537e-01,  7.92671532e-01,  6.92820323e-01,\n",
       "        3.02773583e-01,  5.75909579e-01,  4.44818029e-01,  1.00000000e+00,\n",
       "        1.00000000e+00])"
      ]
     },
     "execution_count": 61,
     "metadata": {},
     "output_type": "execute_result"
    }
   ],
   "source": [
    "P = PforG(p=0.4)\n",
    "ew, ev = eig(P)\n",
    "ew"
   ]
  },
  {
   "cell_type": "code",
   "execution_count": 62,
   "id": "814b5129",
   "metadata": {},
   "outputs": [],
   "source": [
    "def Gchances(p=0.4, N=20):\n",
    "    P = PforG(p, N)\n",
    "    ew, ev = eig(P)\n",
    "    H = ev[:, abs(ew - 1) < 1e-15]\n",
    "    M = np.array([H[0, :], H[-1, :]])\n",
    "    c = inv(M) @ np.array([0, 1]) \n",
    "    return H @ c"
   ]
  },
  {
   "cell_type": "code",
   "execution_count": 63,
   "id": "bf1f0a5b",
   "metadata": {},
   "outputs": [
    {
     "data": {
      "text/plain": [
       "array([0.00000000e+00, 1.50409562e-04, 3.76023906e-04, 7.14445421e-04,\n",
       "       1.22207769e-03, 1.98352610e-03, 3.12569872e-03, 4.83895764e-03,\n",
       "       7.40884602e-03, 1.12636786e-02, 1.70459275e-02, 2.57193007e-02,\n",
       "       3.87293607e-02, 5.82444506e-02, 8.75170854e-02, 1.31426038e-01,\n",
       "       1.97289466e-01, 2.96084609e-01, 4.44277323e-01, 6.66566394e-01,\n",
       "       1.00000000e+00])"
      ]
     },
     "execution_count": 63,
     "metadata": {},
     "output_type": "execute_result"
    }
   ],
   "source": [
    "h = Gchances(p=0.4)\n",
    "h"
   ]
  },
  {
   "cell_type": "code",
   "execution_count": 64,
   "id": "8b4d9409",
   "metadata": {},
   "outputs": [
    {
     "data": {
      "image/png": "[encoded data removed]",
      "text/plain": [
       "<Figure size 432x288 with 1 Axes>"
      ]
     },
     "metadata": {
      "needs_background": "light"
     },
     "output_type": "display_data"
    }
   ],
   "source": [
    "plt.bar(range(len(h)), h)\n",
    "plt.title('$G$\\'s chances of making 10 chips');\n",
    "plt.xlabel('Starting number of chips'); plt.ylabel('Probability');"
   ]
  },
  {
   "cell_type": "code",
   "execution_count": 65,
   "id": "05f22135",
   "metadata": {},
   "outputs": [
    {
     "data": {
      "image/png": "[encoded data removed]",
      "text/plain": [
       "<Figure size 432x288 with 1 Axes>"
      ]
     },
     "metadata": {
      "needs_background": "light"
     },
     "output_type": "display_data"
    }
   ],
   "source": [
    "plt.bar(range(len(h)), 1-h, color='red')\n",
    "plt.title('Chances of $G$\\'sruin');\n",
    "plt.xlabel('Starting number of chips'); plt.ylabel('Probability');"
   ]
  },
  {
   "cell_type": "code",
   "execution_count": 66,
   "id": "6b7f3b8f",
   "metadata": {},
   "outputs": [
    {
     "data": {
      "image/png": "[encoded data removed]",
      "text/plain": [
       "<Figure size 576x432 with 1 Axes>"
      ]
     },
     "metadata": {
      "needs_background": "light"
     },
     "output_type": "display_data"
    }
   ],
   "source": [
    "def transition_probability(k, N, p):\n",
    "    q = 1 - p\n",
    "    if p == q:  # Fair random walk case\n",
    "        return k / N\n",
    "    else:  # Biased random walk case\n",
    "        return (1 - (q / p) ** k) / (1 - (q / p) ** N)\n",
    "\n",
    "# Parameters\n",
    "win = 20\n",
    "p = 0.4\n",
    "initial_states = range(1, win)  # All possible initial states (1 to win-1)\n",
    "\n",
    "# Calculate transition probabilities for each initial state\n",
    "transition_probabilities = [transition_probability(k, win, p) for k in initial_states]\n",
    "\n",
    "# Plotting the transition probabilities\n",
    "plt.figure(figsize=(8, 6))\n",
    "plt.plot(initial_states, transition_probabilities, marker='o')\n",
    "plt.title('Transition Probability to State N (Winning) for Initial States')\n",
    "plt.xlabel('Initial State (k)')\n",
    "plt.ylabel('Transition Probability (P_k)')\n",
    "plt.grid(True)\n",
    "plt.show()"
   ]
  },
  {
   "cell_type": "code",
   "execution_count": 67,
   "id": "4be551f0",
   "metadata": {},
   "outputs": [
    {
     "data": {
      "text/plain": [
       "0.01704592745492986"
      ]
     },
     "execution_count": 67,
     "metadata": {},
     "output_type": "execute_result"
    }
   ],
   "source": [
    "specific_state = 10  # Example state\n",
    "\n",
    "# Calculate the transition probability for the specific state\n",
    "specific_transition_probability = transition_probability(specific_state, win, p)\n",
    "specific_transition_probability"
   ]
  },
  {
   "cell_type": "code",
   "execution_count": 68,
   "id": "9469bbf6",
   "metadata": {},
   "outputs": [],
   "source": [
    "initial_chips = 10\n",
    "target_winnings = 20\n",
    "win_probability = 0.4"
   ]
  },
  {
   "cell_type": "code",
   "execution_count": 69,
   "id": "ae08f5c8",
   "metadata": {},
   "outputs": [],
   "source": [
    "num_trials = 500000\n",
    "win_loss_results = gamble(\n",
    "    initial_chips=initial_chips,\n",
    "    win_probability=win_probability,\n",
    "    target_winnings=target_winnings,\n",
    "    trials=num_trials\n",
    ")\n",
    "numerical_probability = np.mean(win_loss_results)\n",
    "analytical_probability = transition_probability(initial_chips, target_winnings, win_probability)"
   ]
  },
  {
   "cell_type": "code",
   "execution_count": 70,
   "id": "a9c97657",
   "metadata": {},
   "outputs": [
    {
     "data": {
      "text/plain": [
       "(1.992745492986059e-05, 0.0011690449218764779)"
      ]
     },
     "execution_count": 70,
     "metadata": {},
     "output_type": "execute_result"
    }
   ],
   "source": [
    "absolute_error = abs(numerical_probability - analytical_probability)\n",
    "relative_error = absolute_error / analytical_probability\n",
    "\n",
    "absolute_error, relative_error"
   ]
  },
  {
   "cell_type": "code",
   "execution_count": 71,
   "id": "26719ffc",
   "metadata": {},
   "outputs": [],
   "source": [
    "def transition_probability(k, N, p):\n",
    "    q = 1 - p\n",
    "    if p == q:  # Fair random walk case\n",
    "        return k / N\n",
    "    else:  # Biased random walk case\n",
    "        return (1 - (q / p) ** k) / (1 - (q / p) ** N)\n",
    "\n",
    "def gamble(initial_chips, win_probability, target_winnings, trials):\n",
    "    results = np.zeros(trials)  # Track wins (1) or losses (0) for each trial\n",
    "\n",
    "    for i in range(trials):\n",
    "        chips = initial_chips\n",
    "        while chips > 0:  # Play until chips run out or target is reached\n",
    "            if uniform(0, 1) <= win_probability:  # Winning game\n",
    "                chips += 1\n",
    "            else:  # Losing game\n",
    "                chips -= 1\n",
    "\n",
    "            if chips == target_winnings:  # Check if target winnings are reached\n",
    "                results[i] = 1\n",
    "                break\n",
    "\n",
    "    return np.mean(results)"
   ]
  },
  {
   "cell_type": "code",
   "execution_count": 72,
   "id": "cd5aaa7b",
   "metadata": {},
   "outputs": [
    {
     "data": {
      "image/png": "[encoded data removed]",
      "text/plain": [
       "<Figure size 720x432 with 1 Axes>"
      ]
     },
     "metadata": {
      "needs_background": "light"
     },
     "output_type": "display_data"
    },
    {
     "name": "stdout",
     "output_type": "stream",
     "text": [
      "Trials: 100, Numerical Probability: 0.02000, Analytical Probability: 0.01705\n",
      "Trials: 500, Numerical Probability: 0.00600, Analytical Probability: 0.01705\n",
      "Trials: 1000, Numerical Probability: 0.02200, Analytical Probability: 0.01705\n",
      "Trials: 5000, Numerical Probability: 0.01680, Analytical Probability: 0.01705\n",
      "Trials: 10000, Numerical Probability: 0.01570, Analytical Probability: 0.01705\n",
      "Trials: 50000, Numerical Probability: 0.01648, Analytical Probability: 0.01705\n"
     ]
    }
   ],
   "source": [
    "analytical_prob = transition_probability(initial_chips, target_winnings, win_probability)\n",
    "trial_counts = [100, 500, 1000, 5000, 10000, 50000]\n",
    "numerical_probs = []\n",
    "\n",
    "for trials in trial_counts:\n",
    "    numerical_prob = gamble(initial_chips, win_probability, target_winnings, trials)\n",
    "    numerical_probs.append(numerical_prob)\n",
    "\n",
    "# Plot convergence\n",
    "plt.figure(figsize=(10, 6))\n",
    "plt.plot(trial_counts, numerical_probs, marker='o', label='Numerical Probability')\n",
    "plt.axhline(y=analytical_prob, color='r', linestyle='--', label='Analytical Probability')\n",
    "plt.xscale('log')  # Use a logarithmic scale for trials\n",
    "plt.xlabel('Number of Trials (log scale)')\n",
    "plt.ylabel('Probability')\n",
    "plt.title('Monte Carlo Convergence to Analytical Probability')\n",
    "plt.legend()\n",
    "plt.grid()\n",
    "plt.show()\n",
    "\n",
    "# Print results\n",
    "for trials, num_prob in zip(trial_counts, numerical_probs):\n",
    "    print(f\"Trials: {trials}, Numerical Probability: {num_prob:.5f}, Analytical Probability: {analytical_prob:.5f}\")"
   ]
  },
  {
   "cell_type": "code",
   "execution_count": 73,
   "id": "e0844cf6",
   "metadata": {},
   "outputs": [],
   "source": [
    "def transition_probability(k, N, p):\n",
    "    \"\"\"Calculate the probability of reaching state N starting from state k.\"\"\"\n",
    "    q = 1 - p\n",
    "    if p == q:  # Fair random walk case\n",
    "        return k / N\n",
    "    else:  # Biased random walk case\n",
    "        return (1 - (q / p) ** k) / (1 - (q / p) ** N)\n",
    "\n",
    "def gamble(initial_chips, win_probability, target_winnings, trials):\n",
    "    \"\"\"Simulate the gambling game to find the winning probabilities.\"\"\"\n",
    "    results = np.zeros(trials)  # Track wins (1) or losses (0) for each trial\n",
    "\n",
    "    for i in range(trials):\n",
    "        chips = initial_chips\n",
    "        while chips > 0:  # Play until chips run out or target is reached\n",
    "            if uniform(0, 1) <= win_probability:  # Winning game\n",
    "                chips += 1\n",
    "            else:  # Losing game\n",
    "                chips -= 1\n",
    "\n",
    "            if chips == target_winnings:  # Check if target winnings are reached\n",
    "                results[i] = 1\n",
    "                break\n",
    "\n",
    "    return np.mean(results)"
   ]
  },
  {
   "cell_type": "code",
   "execution_count": 74,
   "id": "ec720324",
   "metadata": {},
   "outputs": [],
   "source": [
    "test_cases = [\n",
    "    {\"initial_chips\": 0, \"win_probability\": 0.4, \"target_winnings\": 20, \"expected\": 0.0},\n",
    "    {\"initial_chips\": 5, \"win_probability\": 1.0, \"target_winnings\": 20, \"expected\": 1.0},\n",
    "    {\"initial_chips\": 5, \"win_probability\": 0.0, \"target_winnings\": 20, \"expected\": 0.0},\n",
    "]\n",
    "results = []\n",
    "for case in test_cases:\n",
    "    num_trials = 10000\n",
    "    numerical_result = gamble(\n",
    "        initial_chips=case[\"initial_chips\"],\n",
    "        win_probability=case[\"win_probability\"],\n",
    "        target_winnings=case[\"target_winnings\"],\n",
    "        trials=num_trials,\n",
    "    )\n",
    "    results.append({\n",
    "        \"Initial Chips\": case[\"initial_chips\"],\n",
    "        \"Win Probability\": case[\"win_probability\"],\n",
    "        \"Target Winnings\": case[\"target_winnings\"],\n",
    "        \"Numerical Probability\": round(numerical_result, 4),\n",
    "        \"Expected Probability\": case[\"expected\"],\n",
    "        \"Pass\": abs(numerical_result - case[\"expected\"]) < 0.01\n",
    "    })"
   ]
  },
  {
   "cell_type": "code",
   "execution_count": 75,
   "id": "b7ac34b1",
   "metadata": {},
   "outputs": [
    {
     "data": {
      "text/plain": [
       "[{'Initial Chips': 0,\n",
       "  'Win Probability': 0.4,\n",
       "  'Target Winnings': 20,\n",
       "  'Numerical Probability': 0.0,\n",
       "  'Expected Probability': 0.0,\n",
       "  'Pass': True},\n",
       " {'Initial Chips': 5,\n",
       "  'Win Probability': 1.0,\n",
       "  'Target Winnings': 20,\n",
       "  'Numerical Probability': 1.0,\n",
       "  'Expected Probability': 1.0,\n",
       "  'Pass': True},\n",
       " {'Initial Chips': 5,\n",
       "  'Win Probability': 0.0,\n",
       "  'Target Winnings': 20,\n",
       "  'Numerical Probability': 0.0,\n",
       "  'Expected Probability': 0.0,\n",
       "  'Pass': True}]"
      ]
     },
     "execution_count": 75,
     "metadata": {},
     "output_type": "execute_result"
    }
   ],
   "source": [
    "results"
   ]
  },
  {
   "cell_type": "code",
   "execution_count": null,
   "id": "08117aa7",
   "metadata": {},
   "outputs": [],
   "source": []
  }
 ],
 "metadata": {
  "kernelspec": {
   "display_name": "Python 3 (ipykernel)",
   "language": "python",
   "name": "python3"
  },
  "language_info": {
   "codemirror_mode": {
    "name": "ipython",
    "version": 3
   },
   "file_extension": ".py",
   "mimetype": "text/x-python",
   "name": "python",
   "nbconvert_exporter": "python",
   "pygments_lexer": "ipython3",
   "version": "3.9.12"
  }
 },
 "nbformat": 4,
 "nbformat_minor": 5
}
